{
 "cells": [
  {
   "cell_type": "code",
   "execution_count": null,
   "id": "3244f140-4d69-4dc7-946b-1104c3afb456",
   "metadata": {},
   "outputs": [],
   "source": [
    "from transformers import AutoTokenizer, pipeline\n",
    "\n",
    "from optimum.onnxruntime import ORTModelForSeq2SeqLM\n",
    "BASE = \"/Users/Rrando/Documents/GitHub/smart-tab-grouping/models_onnx/eager-plant-323\"\n",
    "\n",
    "tokenizer = AutoTokenizer.from_pretrained(BASE)\n",
    "\n",
    "#model = ORTModelForSeq2SeqLM.from_pretrained(\"/Users/Rrando/Documents/GitHub/smart-tab-grouping/models/gentle-pyramid-114-onnx\", local_files_only=True, decoder_file_name=\"decoder_model.onnx\", encoder_file_name=\"encoder_model.onnx\", use_cache=False)\n",
    "model = ORTModelForSeq2SeqLM.from_pretrained(BASE, local_files_only=True, decoder_file_name=\"onnx/decoder_model_quantized.onnx\", encoder_file_name=\"onnx/encoder_model_quantized.onnx\", use_cache=False)\n",
    "\n",
    "onnx_translation = pipeline(\"text2text-generation\", model=model, tokenizer=tokenizer)\n",
    "text = \"Topic from keywords: cooking,science. titles: \\n The Future of Science and Cooking. Top 10 Gadgets of the Month. \\n Cooking Trends to Watch. Guide to Cooking\"\n",
    "pred = onnx_translation(text)\n",
    "print(pred[0][\"generated_text\"])\n",
    "\n"
   ]
  },
  {
   "cell_type": "code",
   "execution_count": null,
   "id": "1ad32650-ccb3-4616-9a43-d0ad8bf4cb97",
   "metadata": {},
   "outputs": [],
   "source": []
  }
 ],
 "metadata": {
  "kernelspec": {
   "display_name": "Python 3 (ipykernel)",
   "language": "python",
   "name": "python3"
  },
  "language_info": {
   "codemirror_mode": {
    "name": "ipython",
    "version": 3
   },
   "file_extension": ".py",
   "mimetype": "text/x-python",
   "name": "python",
   "nbconvert_exporter": "python",
   "pygments_lexer": "ipython3",
   "version": "3.11.9"
  }
 },
 "nbformat": 4,
 "nbformat_minor": 5
}
