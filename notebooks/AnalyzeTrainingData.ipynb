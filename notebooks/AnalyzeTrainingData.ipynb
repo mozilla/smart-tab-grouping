{
 "cells": [
  {
   "cell_type": "code",
   "execution_count": 1,
   "id": "a450e000-91f7-4a0c-a3b8-c13d449f17fe",
   "metadata": {},
   "outputs": [],
   "source": []
  },
  {
   "cell_type": "markdown",
   "id": "6f310eb2-14db-47a8-a8a6-e2353d570c28",
   "metadata": {},
   "source": [
    "### This code clusters the training data so some of it can be re-labeled and use in a multi-shot training flow"
   ]
  },
  {
   "cell_type": "code",
   "execution_count": 1,
   "id": "b339b641-b4dd-4893-9c91-a3e3c59e1e59",
   "metadata": {},
   "outputs": [],
   "source": [
    "import pandas as pd"
   ]
  },
  {
   "cell_type": "code",
   "execution_count": 2,
   "id": "0067ab2a-96d3-4a50-97cb-a1c307a89a5f",
   "metadata": {},
   "outputs": [],
   "source": [
    "from sklearn.cluster import KMeans\n",
    "from bertopic import BERTopic"
   ]
  },
  {
   "cell_type": "code",
   "execution_count": 3,
   "id": "79626719-5913-457a-8b54-bef37cf36ff3",
   "metadata": {},
   "outputs": [],
   "source": [
    "df = pd.read_csv(\"../data/external/common_crawl.csv\")"
   ]
  },
  {
   "cell_type": "code",
   "execution_count": 10,
   "id": "a5954814-a3d7-48b4-b822-bd71c0f53351",
   "metadata": {},
   "outputs": [],
   "source": [
    "cluster_model = KMeans(n_clusters=45)\n",
    "topic_model = BERTopic(hdbscan_model=cluster_model)"
   ]
  },
  {
   "cell_type": "code",
   "execution_count": 15,
   "id": "085f46fe-1ac6-4b47-9676-5145eff15ccd",
   "metadata": {},
   "outputs": [],
   "source": [
    "from dotenv import load_dotenv"
   ]
  },
  {
   "cell_type": "code",
   "execution_count": 11,
   "id": "21fefd42-5cdd-4cf0-af64-2698220ad638",
   "metadata": {},
   "outputs": [],
   "source": [
    "df= df.fillna(\"\")"
   ]
  },
  {
   "cell_type": "code",
   "execution_count": 12,
   "id": "e4e42a9a-eb00-40a6-9549-4fd480887a30",
   "metadata": {},
   "outputs": [
    {
     "data": {
      "text/html": [
       "<div>\n",
       "<style scoped>\n",
       "    .dataframe tbody tr th:only-of-type {\n",
       "        vertical-align: middle;\n",
       "    }\n",
       "\n",
       "    .dataframe tbody tr th {\n",
       "        vertical-align: top;\n",
       "    }\n",
       "\n",
       "    .dataframe thead th {\n",
       "        text-align: right;\n",
       "    }\n",
       "</style>\n",
       "<table border=\"1\" class=\"dataframe\">\n",
       "  <thead>\n",
       "    <tr style=\"text-align: right;\">\n",
       "      <th></th>\n",
       "      <th>Unnamed: 0</th>\n",
       "      <th>url</th>\n",
       "      <th>description</th>\n",
       "      <th>title</th>\n",
       "    </tr>\n",
       "  </thead>\n",
       "  <tbody>\n",
       "    <tr>\n",
       "      <th>0</th>\n",
       "      <td>0</td>\n",
       "      <td>http://177-559fefd669b77.radiocms.com/podcasts...</td>\n",
       "      <td>Steve N Allen and Erich McElroy this week get ...</td>\n",
       "      <td>Episode 16 - The plane show (Preview) - SomeNe...</td>\n",
       "    </tr>\n",
       "    <tr>\n",
       "      <th>1</th>\n",
       "      <td>1</td>\n",
       "      <td>http://55words.blogspot.com/2012/06/theme-76-m...</td>\n",
       "      <td>From @DayaDarwazaTodo:  Questions everywhere, ...</td>\n",
       "      <td>55wordstory: Theme 76 - Map/Maps</td>\n",
       "    </tr>\n",
       "    <tr>\n",
       "      <th>2</th>\n",
       "      <td>2</td>\n",
       "      <td>http://a-fair-substitute-for-heaven.blogspot.c...</td>\n",
       "      <td>From Walter's letter to Rilla  as he fights fo...</td>\n",
       "      <td>a Fair Substitute for Heaven: Where Rachel McM...</td>\n",
       "    </tr>\n",
       "    <tr>\n",
       "      <th>3</th>\n",
       "      <td>3</td>\n",
       "      <td>http://afraazirani.com/tag/gravitational-waves/</td>\n",
       "      <td>No Description</td>\n",
       "      <td>Gravitational Waves | Biotechnology &amp; MedTech</td>\n",
       "    </tr>\n",
       "    <tr>\n",
       "      <th>4</th>\n",
       "      <td>4</td>\n",
       "      <td>http://afro13.net/17331297.html</td>\n",
       "      <td>Omega Speedmaster Moonwatch Co-Axial Moonphase...</td>\n",
       "      <td>Omega Speedmaster Moonwatch Co-Axial Moonphase...</td>\n",
       "    </tr>\n",
       "    <tr>\n",
       "      <th>...</th>\n",
       "      <td>...</td>\n",
       "      <td>...</td>\n",
       "      <td>...</td>\n",
       "      <td>...</td>\n",
       "    </tr>\n",
       "    <tr>\n",
       "      <th>4699</th>\n",
       "      <td>4698</td>\n",
       "      <td>https://zinninsurance.com/2021/01/</td>\n",
       "      <td>No Description</td>\n",
       "      <td>January 2021 - Zinn Insurance</td>\n",
       "    </tr>\n",
       "    <tr>\n",
       "      <th>4700</th>\n",
       "      <td>4699</td>\n",
       "      <td>https://zomunk.com/cdn-cgi/l/email-protection</td>\n",
       "      <td>No Description</td>\n",
       "      <td>Email Protection | Cloudflare</td>\n",
       "    </tr>\n",
       "    <tr>\n",
       "      <th>4701</th>\n",
       "      <td>4700</td>\n",
       "      <td>https://zooloosbooktours.co.uk/testimonial/27860</td>\n",
       "      <td>Zoe’s blog tour was by far the best blog tour ...</td>\n",
       "      <td>- Zooloo's Book Tours</td>\n",
       "    </tr>\n",
       "    <tr>\n",
       "      <th>4702</th>\n",
       "      <td>4701</td>\n",
       "      <td>https://zootubesex.com/video/aroused-female-th...</td>\n",
       "      <td>Aroused female throats a juicy dog dick in per...</td>\n",
       "      <td>Aroused female throats a juicy dog dick in per...</td>\n",
       "    </tr>\n",
       "    <tr>\n",
       "      <th>4703</th>\n",
       "      <td>4702</td>\n",
       "      <td>https://zozstyle.weebly.com/home/archives/08-2017</td>\n",
       "      <td>{ZOZ} Aug 27th - Sept 9th - Hello ladies, this...</td>\n",
       "      <td>Blog Archives - -ZOZ-</td>\n",
       "    </tr>\n",
       "  </tbody>\n",
       "</table>\n",
       "<p>4704 rows × 4 columns</p>\n",
       "</div>"
      ],
      "text/plain": [
       "     Unnamed: 0                                                url  \\\n",
       "0             0  http://177-559fefd669b77.radiocms.com/podcasts...   \n",
       "1             1  http://55words.blogspot.com/2012/06/theme-76-m...   \n",
       "2             2  http://a-fair-substitute-for-heaven.blogspot.c...   \n",
       "3             3    http://afraazirani.com/tag/gravitational-waves/   \n",
       "4             4                    http://afro13.net/17331297.html   \n",
       "...         ...                                                ...   \n",
       "4699       4698                 https://zinninsurance.com/2021/01/   \n",
       "4700       4699      https://zomunk.com/cdn-cgi/l/email-protection   \n",
       "4701       4700   https://zooloosbooktours.co.uk/testimonial/27860   \n",
       "4702       4701  https://zootubesex.com/video/aroused-female-th...   \n",
       "4703       4702  https://zozstyle.weebly.com/home/archives/08-2017   \n",
       "\n",
       "                                            description  \\\n",
       "0     Steve N Allen and Erich McElroy this week get ...   \n",
       "1     From @DayaDarwazaTodo:  Questions everywhere, ...   \n",
       "2     From Walter's letter to Rilla  as he fights fo...   \n",
       "3                                        No Description   \n",
       "4     Omega Speedmaster Moonwatch Co-Axial Moonphase...   \n",
       "...                                                 ...   \n",
       "4699                                     No Description   \n",
       "4700                                     No Description   \n",
       "4701  Zoe’s blog tour was by far the best blog tour ...   \n",
       "4702  Aroused female throats a juicy dog dick in per...   \n",
       "4703  {ZOZ} Aug 27th - Sept 9th - Hello ladies, this...   \n",
       "\n",
       "                                                  title  \n",
       "0     Episode 16 - The plane show (Preview) - SomeNe...  \n",
       "1                      55wordstory: Theme 76 - Map/Maps  \n",
       "2     a Fair Substitute for Heaven: Where Rachel McM...  \n",
       "3         Gravitational Waves | Biotechnology & MedTech  \n",
       "4     Omega Speedmaster Moonwatch Co-Axial Moonphase...  \n",
       "...                                                 ...  \n",
       "4699                      January 2021 - Zinn Insurance  \n",
       "4700                      Email Protection | Cloudflare  \n",
       "4701                              - Zooloo's Book Tours  \n",
       "4702  Aroused female throats a juicy dog dick in per...  \n",
       "4703                              Blog Archives - -ZOZ-  \n",
       "\n",
       "[4704 rows x 4 columns]"
      ]
     },
     "execution_count": 12,
     "metadata": {},
     "output_type": "execute_result"
    }
   ],
   "source": [
    "df"
   ]
  },
  {
   "cell_type": "code",
   "execution_count": null,
   "id": "707864dd-0418-4cc3-92bf-208c9b1b37ad",
   "metadata": {},
   "outputs": [],
   "source": []
  },
  {
   "cell_type": "code",
   "execution_count": 13,
   "id": "0f895d7e-2288-4d4c-8c26-023aaea667cc",
   "metadata": {},
   "outputs": [],
   "source": [
    "topics, probs = topic_model.fit_transform(df.title)"
   ]
  },
  {
   "cell_type": "code",
   "execution_count": null,
   "id": "0ff70cdf-0de4-4605-96a5-0d273b4c6376",
   "metadata": {},
   "outputs": [],
   "source": []
  },
  {
   "cell_type": "code",
   "execution_count": null,
   "id": "657cb274-524f-4cf0-9957-3d222b8bbe17",
   "metadata": {},
   "outputs": [],
   "source": []
  },
  {
   "cell_type": "code",
   "execution_count": 24,
   "id": "ab3f9b77-9143-47cf-8c5d-bca997f81b9d",
   "metadata": {},
   "outputs": [
    {
     "data": {
      "text/plain": [
       "45"
      ]
     },
     "execution_count": 24,
     "metadata": {},
     "output_type": "execute_result"
    }
   ],
   "source": [
    "len(pd.DataFrame({\"topics\": topics}).topics.unique())"
   ]
  },
  {
   "cell_type": "code",
   "execution_count": 28,
   "id": "3a749246-9a62-4c06-98a4-7cd36eccaed2",
   "metadata": {},
   "outputs": [
    {
     "name": "stdout",
     "output_type": "stream",
     "text": [
      "0_insurance_business_financial_to\n",
      "1_the_by_book_meaning\n",
      "2_shirt_mens_fashion_black\n",
      "3_health_care_of_yoga\n",
      "4_food_wine_recipes_ny\n",
      "5_golf_travel_escorts_to\n",
      "6_football_sports_vs_team\n",
      "7_archives_collections_university_history\n",
      "8_photography_art_photo_wedding\n",
      "9_the_music_theatre_of\n",
      "10_marketing_ai_software_agency\n",
      "11_estate_homes_real_property\n",
      "12_news_blog_stock_page\n",
      "13_cleaning_services_air_roof\n",
      "14_porn_video_videos_sex\n",
      "15_shop_products_store_uk\n",
      "16_school_university_college_student\n",
      "17_car_sale_auto_parts\n",
      "18_forum_community_topics_forums\n",
      "19_law_justice_court_police\n",
      "20_christmas_by_music_classical\n",
      "21_pattern_logo_nail_design\n",
      "22_door_wheel_machine_fiber\n",
      "23_apps_windows_api_download\n",
      "24_flowers_flower_florist_choice\n",
      "25_2025_february_2022_2023\n",
      "26_pro_git_battery_dell\n",
      "27_furniture_carpet_table_sofa\n",
      "28_contact_dubai_uae_storage\n",
      "29_jobs_job_engineering_hiring\n",
      "30_dog_weight_lifestyle_nutrition\n",
      "31_archery_107_lot_sports\n",
      "32_gold_earrings_jewelry_diamond\n",
      "33_casino_games_game_online\n",
      "34_courses_mit_learnermeetsfuture_solve\n",
      "35_login_user_account_panel\n",
      "36_3d_printing_l58pt8_toner\n",
      "37_archives_aviation_flight_air\n",
      "38_search_results_searched_ai2sql\n",
      "39_podcast_episode_voice_podcasts\n",
      "40_obituary_information_funeral_cremation\n",
      "41_watershed_outputs_canadian_network\n",
      "42_moment_please_one_\n",
      "43_medieval_art_index_privacy\n",
      "44_email_cloudflare_protection_intermittent\n"
     ]
    },
    {
     "data": {
      "text/plain": [
       "[None,\n",
       " None,\n",
       " None,\n",
       " None,\n",
       " None,\n",
       " None,\n",
       " None,\n",
       " None,\n",
       " None,\n",
       " None,\n",
       " None,\n",
       " None,\n",
       " None,\n",
       " None,\n",
       " None,\n",
       " None,\n",
       " None,\n",
       " None,\n",
       " None,\n",
       " None,\n",
       " None,\n",
       " None,\n",
       " None,\n",
       " None,\n",
       " None,\n",
       " None,\n",
       " None,\n",
       " None,\n",
       " None,\n",
       " None,\n",
       " None,\n",
       " None,\n",
       " None,\n",
       " None,\n",
       " None,\n",
       " None,\n",
       " None,\n",
       " None,\n",
       " None,\n",
       " None,\n",
       " None,\n",
       " None,\n",
       " None,\n",
       " None,\n",
       " None]"
      ]
     },
     "execution_count": 28,
     "metadata": {},
     "output_type": "execute_result"
    }
   ],
   "source": [
    "[print(a) for a in topic_model.get_topic_info()[\"Name\"].to_list()]"
   ]
  },
  {
   "cell_type": "code",
   "execution_count": 16,
   "id": "494d20a4-d2e3-4d51-aee2-f5d9ae8db96e",
   "metadata": {},
   "outputs": [],
   "source": [
    "df[\"assigned_topic\"] = topics"
   ]
  },
  {
   "cell_type": "code",
   "execution_count": 19,
   "id": "8f263907-38f9-4e17-842f-a5943ced8777",
   "metadata": {},
   "outputs": [],
   "source": [
    "df.to_csv(\"../test_data/topic_fine_tuning_data__01_05__grouped.csv\")"
   ]
  },
  {
   "cell_type": "code",
   "execution_count": null,
   "id": "418c7c48-8d79-4bc5-a194-fa2c33d563fa",
   "metadata": {},
   "outputs": [],
   "source": []
  }
 ],
 "metadata": {
  "kernelspec": {
   "display_name": "Python 3 (ipykernel)",
   "language": "python",
   "name": "python3"
  },
  "language_info": {
   "codemirror_mode": {
    "name": "ipython",
    "version": 3
   },
   "file_extension": ".py",
   "mimetype": "text/x-python",
   "name": "python",
   "nbconvert_exporter": "python",
   "pygments_lexer": "ipython3",
   "version": "3.11.4"
  }
 },
 "nbformat": 4,
 "nbformat_minor": 5
}
