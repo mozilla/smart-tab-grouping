{
 "cells": [
  {
   "cell_type": "code",
   "execution_count": null,
   "id": "581755c5-3d91-4c1f-b01e-40d9de375c66",
   "metadata": {
    "pycharm": {
     "is_executing": true
    }
   },
   "outputs": [],
   "source": [
    "import pandas as pd\n",
    "from pandas import DataFrame\n",
    "from functools import partial"
   ]
  },
  {
   "cell_type": "code",
   "execution_count": null,
   "id": "cb473ed7-aa9e-42fd-9446-a081d9ba9c38",
   "metadata": {
    "scrolled": true
   },
   "outputs": [],
   "source": [
    "%pwd\n",
    "%cd \"~/Documents/GitHub/smart-tab-grouping\"\n"
   ]
  },
  {
   "cell_type": "code",
   "execution_count": null,
   "id": "d82dbb51-bb12-46c4-b532-87a2735caccb",
   "metadata": {},
   "outputs": [],
   "source": [
    "from rouge_score import rouge_scorer"
   ]
  },
  {
   "cell_type": "code",
   "execution_count": null,
   "id": "e3c8d2f3-2be3-4dc8-9461-9ed71947a0e0",
   "metadata": {},
   "outputs": [],
   "source": [
    "multitab_tests = pd.read_csv(\"data/individual_tests/private/all_users2.csv\")\n",
    "single_tab_tests = pd.read_csv(\"data/individual_tests/single_tab_validation.csv\")\n",
    "single_tab_tests.keywords = \"\""
   ]
  },
  {
   "cell_type": "code",
   "execution_count": null,
   "id": "0e711a63-5ece-4b73-a757-0cba0548572c",
   "metadata": {},
   "outputs": [],
   "source": [
    "scorer = rouge_scorer.RougeScorer(['rouge1', 'rouge2', 'rougeL'], use_stemmer=True)"
   ]
  },
  {
   "cell_type": "code",
   "execution_count": null,
   "id": "f6c987e5-aad7-4d3c-a2df-8696b96b7db4",
   "metadata": {},
   "outputs": [],
   "source": [
    "from sklearn.metrics.pairwise import cosine_similarity\n"
   ]
  },
  {
   "cell_type": "code",
   "execution_count": null,
   "id": "8bd3e3c8-907c-4084-a73c-3407d4906a00",
   "metadata": {},
   "outputs": [],
   "source": [
    "from transformers import T5ForConditionalGeneration, T5Tokenizer, pipeline\n",
    "import numpy as np"
   ]
  },
  {
   "cell_type": "code",
   "execution_count": null,
   "id": "575f3907-0cac-44a8-ad32-41bb01077c84",
   "metadata": {},
   "outputs": [],
   "source": [
    "embedder = pipeline(\"feature-extraction\", model=\"sentence-transformers/all-MiniLM-L6-v2\", device=-1)\n"
   ]
  },
  {
   "cell_type": "code",
   "execution_count": null,
   "id": "b485fdef-ee22-441a-9cf5-45d8ef571a30",
   "metadata": {},
   "outputs": [],
   "source": [
    "def cos_sim(s1, s2):\n",
    "    embeddings = [np.mean(embedder(s)[0], axis=0) for s in [s1, s2]]\n",
    "    similarity = cosine_similarity(embeddings[0].reshape(1,-1), embeddings[1].reshape(1,-1)).squeeze()\n",
    "    return similarity\n",
    "\n"
   ]
  },
  {
   "cell_type": "code",
   "execution_count": null,
   "id": "fc7b43aa-0adb-4c63-a1c7-47478d24e405",
   "metadata": {},
   "outputs": [],
   "source": [
    "cos_sim(\"Dogs\", \"Apple\")"
   ]
  },
  {
   "cell_type": "code",
   "execution_count": null,
   "id": "51e52356-e47c-4910-863a-bec23e119ad5",
   "metadata": {},
   "outputs": [],
   "source": [
    "def compute_scores(row, pred_key=None):\n",
    "    scores = scorer.score(row['label'], row[pred_key])\n",
    "    return {\n",
    "        'rouge1': scores['rouge1'].fmeasure,\n",
    "        'rouge2': scores['rouge2'].fmeasure,\n",
    "        'rougeL': scores['rougeL'].fmeasure,\n",
    "        'pred_len': len(row[pred_key]),\n",
    "        'label_len': len(row['label']),\n",
    "        'cos_sim': cos_sim(row['label'], row[pred_key])\n",
    "    }\n"
   ]
  },
  {
   "cell_type": "code",
   "execution_count": null,
   "id": "c14856f7-8329-419c-9e2e-1c96a07d3984",
   "metadata": {},
   "outputs": [],
   "source": [
    "def get_avg_scores(input_df: DataFrame, compare_column: str):\n",
    "    rouge_scores_df = input_df.apply(partial(compute_scores, pred_key=compare_column) , axis=1, result_type='expand')\n",
    "    average_scores = rouge_scores_df.mean().to_dict()\n",
    "    return average_scores\n"
   ]
  },
  {
   "cell_type": "code",
   "execution_count": null,
   "id": "fc08ad0e-5750-4823-8181-6b6c58bdb11b",
   "metadata": {},
   "outputs": [],
   "source": [
    "import sys\n",
    "sys.path.append(\"/Users/Rrando/Documents/GitHub/smart-tab-grouping/src\")\n",
    "from util.tab_titles import T5TopicGenerator"
   ]
  },
  {
   "cell_type": "code",
   "execution_count": null,
   "id": "388913c9-0c7a-473c-8581-a8de4502f1ee",
   "metadata": {},
   "outputs": [],
   "source": [
    "def compute_topic_keywords(row, legacy=False, prob_limit=None):\n",
    "    return topic_gen.get_topic_with_keywords({\"documents\": row[\"three_titles\"].split('\\n'), \"keywords\": row[\"keywords\"].split(',')}, legacy=legacy, prob_limit=prob_limit)"
   ]
  },
  {
   "cell_type": "code",
   "execution_count": null,
   "id": "477ec933-aae1-45fa-9c9a-01a746b329d6",
   "metadata": {},
   "outputs": [],
   "source": [
    "topic_gen = T5TopicGenerator()"
   ]
  },
  {
   "cell_type": "code",
   "execution_count": null,
   "id": "ce161173-8988-4ba4-901f-3d8b1802747a",
   "metadata": {},
   "outputs": [],
   "source": [
    "def compute_topic_keywords_single(row, legacy=False, prob_limit=None):\n",
    "    return topic_gen.get_topic_with_keywords({\"documents\": [row[\"title\"]], \"keywords\": row[\"keywords\"].split(',')}, legacy=legacy, \n",
    "                                             prob_limit=prob_limit)"
   ]
  },
  {
   "cell_type": "code",
   "execution_count": null,
   "id": "07b9dd63-1203-4293-b501-03c089b475ec",
   "metadata": {},
   "outputs": [],
   "source": [
    "def compute_topic(row):\n",
    "    return topic_gen.get_topic({\"documents\": row[\"three_titles\"].split('\\n')})"
   ]
  },
  {
   "cell_type": "code",
   "execution_count": null,
   "id": "0bc64325-9f70-40fc-bca7-b15d4ef028d0",
   "metadata": {},
   "outputs": [],
   "source": []
  },
  {
   "cell_type": "code",
   "execution_count": null,
   "id": "d9e6e08c-d0d7-482d-a8ed-0f2d37f71a94",
   "metadata": {},
   "outputs": [],
   "source": [
    "\n",
    "multitab_tests[\"recomputed_titles_keywords\"] = multitab_tests.apply(lambda row: compute_topic_keywords(row), axis=1)\n",
    "#multitab_tests[\"recomputed_title_no_keywords\"] = multitab_tests.apply(lambda row: compute_topic(row), axis=1)\n",
    "# Look at OpenAI can do for generating topics from a set of tabs\n",
    "#llm_topic_gen_no_keywords = OpenAITopicGenerator(support_keywords=False)\n",
    "#multitab_tests[\"openai_keywords\"] = multitab_tests.apply(lambda row: llm_topic_gen_keywords.get_topic({\"documents\": row.three_titles.split(\"\\n\"), \"keywords\": row.keywords.split(\",\")}), axis=1)\n",
    "#print_rouge_scores(multitab_tests, \"openai_keywords\")\n",
    "# Compare with fine tuned model\n",
    "#topic_gen = T5TopicGenerator(model_name=\"./models/gentle-pyramid-114\")\n",
    "#multitab_tests[\"recomputed_title_keywords_pyramid\"] = multitab_tests.apply(lambda row: compute_topic_keywords(row, legacy=False), axis=1)\n",
    "#print_rouge_scores(multitab_tests, \"recomputed_title_keywords_pyramid\")\n"
   ]
  },
  {
   "cell_type": "code",
   "execution_count": null,
   "id": "d1f199de-575c-4d9d-82fb-4d5205ba0614",
   "metadata": {},
   "outputs": [],
   "source": [
    "#           {\"name\": \"cool-yogurt-98\", \"legacy_data_format\": False},\n",
    "#          {\"name\": \"dainty-blaze-127\", \"legacy_data_format\": False},\n",
    "#          {\"name\": \"major-cloud-188\", \"legacy_data_format\": False},\n",
    "\n",
    "\n",
    "models = [\n",
    "           {\"name\": \"cool-yogurt-98\", \"legacy_data_format\": False},\n",
    "          {\"name\": \"dainty-blaze-127\", \"legacy_data_format\": False},\n",
    "        {\"name\": \"dainty-river-189\",\"legacy_data_format\": False},\n",
    "        {\"name\": \"gallant-sunset-190\",\"legacy_data_format\": False},\n",
    "        {\"name\": \"upbeat-eon-195\", \"legacy_data_format\": False},\n",
    "        {\"name\": \"devoted-puddle-246\", \"legacy_data_format\": False},\n",
    "        {\"name\": \"genial-tree-283\", \"legacy_data_format\": False},\n",
    "\n",
    "         ]\n",
    "\n",
    "# pious-butterfly-170 is broken\n"
   ]
  },
  {
   "cell_type": "code",
   "execution_count": null,
   "id": "e79ea79f-62c2-41d8-8377-ffe5099f5194",
   "metadata": {},
   "outputs": [],
   "source": [
    "single_tab_tests[\"keywords\"] = pd.Series(dtype=str)\n",
    "single_tab_tests = single_tab_tests.fillna(\"\")"
   ]
  },
  {
   "cell_type": "code",
   "execution_count": null,
   "id": "f84145f7-53d4-4f82-8503-fbba6d797e2b",
   "metadata": {},
   "outputs": [],
   "source": []
  },
  {
   "cell_type": "code",
   "execution_count": null,
   "id": "718dc98e-02dd-41c1-b212-5487b9477a0b",
   "metadata": {},
   "outputs": [],
   "source": [
    "single_tab_score = []\n",
    "multi_tab_score = []\n",
    "\n",
    "for model_info in models:\n",
    "    name = model_info[\"name\"]\n",
    "    topic_gen = T5TopicGenerator(model_name=f\"./models/{name}\")\n",
    "    col = f\"recomputed_title_keywords_{name}\"\n",
    "    multitab_tests[col] = multitab_tests.apply(lambda row: compute_topic_keywords(row, legacy=model_info[\"legacy_data_format\"]), axis=1)\n",
    "    print(f\"{name} - MultiTab Tests\")\n",
    "    score = get_avg_scores(multitab_tests, col)\n",
    "    score[\"model\"] = name\n",
    "    multi_tab_score.append(score)\n",
    "    \n",
    "    single_tab_tests[col] = single_tab_tests.apply(lambda row: compute_topic_keywords_single(row, legacy=model_info[\"legacy_data_format\"]), axis=1)\n",
    "    print(f\"{name} - Single Tab Tests\")\n",
    "    score = get_avg_scores(single_tab_tests, col)\n",
    "    score[\"model\"] = name\n",
    "    single_tab_score.append(score)\n",
    "\n",
    "    \n",
    "    "
   ]
  },
  {
   "cell_type": "code",
   "execution_count": null,
   "id": "750893b6-547c-44d5-bd3b-23162fc8ccb0",
   "metadata": {},
   "outputs": [],
   "source": []
  },
  {
   "cell_type": "code",
   "execution_count": null,
   "id": "cf56c4c7-eee9-463e-9439-55952ffd66e2",
   "metadata": {},
   "outputs": [],
   "source": []
  },
  {
   "cell_type": "code",
   "execution_count": null,
   "id": "afe39759-73a2-4d20-8b6c-553cb562d64c",
   "metadata": {},
   "outputs": [],
   "source": [
    "single_tab_df = pd.DataFrame(single_tab_score)\n",
    "multi_tab_df = pd.DataFrame(multi_tab_score)"
   ]
  },
  {
   "cell_type": "code",
   "execution_count": null,
   "id": "36ae52b0-72c6-47ac-a710-6548173428cf",
   "metadata": {},
   "outputs": [],
   "source": [
    "multi_tab_df"
   ]
  },
  {
   "cell_type": "code",
   "execution_count": null,
   "id": "eeb97658-4222-47c0-b814-4d4a22558f02",
   "metadata": {},
   "outputs": [],
   "source": [
    "single_tab_df"
   ]
  },
  {
   "cell_type": "code",
   "execution_count": null,
   "id": "02c9bb37-be84-4060-81ef-a2998c1c1b55",
   "metadata": {},
   "outputs": [],
   "source": []
  }
 ],
 "metadata": {
  "kernelspec": {
   "display_name": "Python 3 (ipykernel)",
   "language": "python",
   "name": "python3"
  },
  "language_info": {
   "codemirror_mode": {
    "name": "ipython",
    "version": 3
   },
   "file_extension": ".py",
   "mimetype": "text/x-python",
   "name": "python",
   "nbconvert_exporter": "python",
   "pygments_lexer": "ipython3",
   "version": "3.11.4"
  }
 },
 "nbformat": 4,
 "nbformat_minor": 5
}
