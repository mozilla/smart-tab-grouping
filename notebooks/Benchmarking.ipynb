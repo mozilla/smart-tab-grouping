{
 "cells": [
  {
   "cell_type": "code",
   "execution_count": 1,
   "id": "581755c5-3d91-4c1f-b01e-40d9de375c66",
   "metadata": {
    "pycharm": {
     "is_executing": true
    }
   },
   "outputs": [],
   "source": [
    "import pandas as pd\n",
    "from pandas import DataFrame\n",
    "from functools import partial"
   ]
  },
  {
   "cell_type": "code",
   "execution_count": 2,
   "id": "cb473ed7-aa9e-42fd-9446-a081d9ba9c38",
   "metadata": {
    "scrolled": true
   },
   "outputs": [
    {
     "name": "stdout",
     "output_type": "stream",
     "text": [
      "/Users/Rrando/Documents/GitHub/smart-tab-grouping\n"
     ]
    },
    {
     "name": "stderr",
     "output_type": "stream",
     "text": [
      "/Users/Rrando/Documents/GitHub/smart-tab-grouping/.venv/lib/python3.11/site-packages/IPython/core/magics/osm.py:393: UserWarning: This is now an optional IPython functionality, using bookmarks requires you to install the `pickleshare` library.\n",
      "  bkms = self.shell.db.get('bookmarks', {})\n",
      "/Users/Rrando/Documents/GitHub/smart-tab-grouping/.venv/lib/python3.11/site-packages/IPython/core/magics/osm.py:417: UserWarning: This is now an optional IPython functionality, setting dhist requires you to install the `pickleshare` library.\n",
      "  self.shell.db['dhist'] = compress_dhist(dhist)[-100:]\n"
     ]
    }
   ],
   "source": [
    "%pwd\n",
    "%cd \"~/Documents/GitHub/smart-tab-grouping\"\n"
   ]
  },
  {
   "cell_type": "code",
   "execution_count": 3,
   "id": "d82dbb51-bb12-46c4-b532-87a2735caccb",
   "metadata": {},
   "outputs": [],
   "source": [
    "from rouge_score import rouge_scorer"
   ]
  },
  {
   "cell_type": "code",
   "execution_count": 4,
   "id": "e3c8d2f3-2be3-4dc8-9461-9ed71947a0e0",
   "metadata": {},
   "outputs": [],
   "source": [
    "multitab_tests = pd.read_csv(\"data/individual_tests/private/all_users2.csv\")\n",
    "single_tab_tests = pd.read_csv(\"data/individual_tests/single_tab_validation.csv\")\n",
    "single_tab_tests.keywords = \"\""
   ]
  },
  {
   "cell_type": "code",
   "execution_count": 5,
   "id": "0e711a63-5ece-4b73-a757-0cba0548572c",
   "metadata": {},
   "outputs": [],
   "source": [
    "scorer = rouge_scorer.RougeScorer(['rouge1', 'rouge2', 'rougeL'], use_stemmer=True)"
   ]
  },
  {
   "cell_type": "code",
   "execution_count": 6,
   "id": "f6c987e5-aad7-4d3c-a2df-8696b96b7db4",
   "metadata": {},
   "outputs": [],
   "source": [
    "from sklearn.metrics.pairwise import cosine_similarity\n"
   ]
  },
  {
   "cell_type": "code",
   "execution_count": 7,
   "id": "8bd3e3c8-907c-4084-a73c-3407d4906a00",
   "metadata": {},
   "outputs": [],
   "source": [
    "from transformers import T5ForConditionalGeneration, T5Tokenizer, pipeline\n",
    "import numpy as np"
   ]
  },
  {
   "cell_type": "code",
   "execution_count": 8,
   "id": "575f3907-0cac-44a8-ad32-41bb01077c84",
   "metadata": {},
   "outputs": [
    {
     "name": "stderr",
     "output_type": "stream",
     "text": [
      "Device set to use cpu\n"
     ]
    }
   ],
   "source": [
    "embedder = pipeline(\"feature-extraction\", model=\"sentence-transformers/all-MiniLM-L6-v2\", device=-1)\n"
   ]
  },
  {
   "cell_type": "code",
   "execution_count": 9,
   "id": "b485fdef-ee22-441a-9cf5-45d8ef571a30",
   "metadata": {},
   "outputs": [],
   "source": [
    "def cos_sim(s1, s2):\n",
    "    embeddings = [np.mean(embedder(s)[0], axis=0) for s in [s1, s2]]\n",
    "    similarity = cosine_similarity(embeddings[0].reshape(1,-1), embeddings[1].reshape(1,-1)).squeeze()\n",
    "    return similarity\n",
    "\n"
   ]
  },
  {
   "cell_type": "code",
   "execution_count": 10,
   "id": "fc7b43aa-0adb-4c63-a1c7-47478d24e405",
   "metadata": {},
   "outputs": [
    {
     "data": {
      "text/plain": [
       "array(0.31603999)"
      ]
     },
     "execution_count": 10,
     "metadata": {},
     "output_type": "execute_result"
    }
   ],
   "source": [
    "cos_sim(\"Dogs\", \"Apple\")"
   ]
  },
  {
   "cell_type": "code",
   "execution_count": 11,
   "id": "51e52356-e47c-4910-863a-bec23e119ad5",
   "metadata": {},
   "outputs": [],
   "source": [
    "def compute_scores(row, pred_key=None):\n",
    "    scores = scorer.score(row['label'], row[pred_key])\n",
    "    return {\n",
    "        'rouge1': scores['rouge1'].fmeasure,\n",
    "        'rouge2': scores['rouge2'].fmeasure,\n",
    "        'rougeL': scores['rougeL'].fmeasure,\n",
    "        'pred_len': len(row[pred_key]),\n",
    "        'label_len': len(row['label']),\n",
    "        'cos_sim': cos_sim(row['label'], row[pred_key])\n",
    "    }\n"
   ]
  },
  {
   "cell_type": "code",
   "execution_count": 12,
   "id": "c14856f7-8329-419c-9e2e-1c96a07d3984",
   "metadata": {},
   "outputs": [],
   "source": [
    "def get_avg_scores(input_df: DataFrame, compare_column: str):\n",
    "    rouge_scores_df = input_df.apply(partial(compute_scores, pred_key=compare_column) , axis=1, result_type='expand')\n",
    "    average_scores = rouge_scores_df.mean().to_dict()\n",
    "    return average_scores\n"
   ]
  },
  {
   "cell_type": "code",
   "execution_count": 13,
   "id": "fc08ad0e-5750-4823-8181-6b6c58bdb11b",
   "metadata": {},
   "outputs": [],
   "source": [
    "import sys\n",
    "sys.path.append(\"/Users/Rrando/Documents/GitHub/smart-tab-grouping/src\")\n",
    "from util.tab_titles import T5TopicGenerator"
   ]
  },
  {
   "cell_type": "code",
   "execution_count": 14,
   "id": "477ec933-aae1-45fa-9c9a-01a746b329d6",
   "metadata": {},
   "outputs": [
    {
     "name": "stderr",
     "output_type": "stream",
     "text": [
      "You are using the default legacy behaviour of the <class 'transformers.models.t5.tokenization_t5.T5Tokenizer'>. This is expected, and simply means that the `legacy` (previous) behavior will be used so nothing changes for you. If you want to use the new behaviour, set `legacy=False`. This should only be set if you understand what it means, and thoroughly read the reason why this was added as explained in https://github.com/huggingface/transformers/pull/24565\n"
     ]
    },
    {
     "name": "stdout",
     "output_type": "stream",
     "text": [
      "/Users/Rrando/Documents/GitHub/smart-tab-grouping\n"
     ]
    }
   ],
   "source": [
    "topic_gen = T5TopicGenerator()"
   ]
  },
  {
   "cell_type": "code",
   "execution_count": 15,
   "id": "388913c9-0c7a-473c-8581-a8de4502f1ee",
   "metadata": {},
   "outputs": [],
   "source": [
    "def compute_topic_keywords(row, legacy=False):\n",
    "    return topic_gen.get_topic_with_keywords({\"documents\": row[\"three_titles\"].split('\\n'), \"keywords\": row[\"keywords\"].split(',')}, legacy=legacy)"
   ]
  },
  {
   "cell_type": "code",
   "execution_count": 16,
   "id": "ce161173-8988-4ba4-901f-3d8b1802747a",
   "metadata": {},
   "outputs": [],
   "source": [
    "def compute_topic_keywords_single(row, legacy=False):\n",
    "    return topic_gen.get_topic_with_keywords({\"documents\": [row[\"title\"]], \"keywords\": row[\"keywords\"].split(',')}, legacy=legacy)"
   ]
  },
  {
   "cell_type": "code",
   "execution_count": 17,
   "id": "07b9dd63-1203-4293-b501-03c089b475ec",
   "metadata": {},
   "outputs": [],
   "source": [
    "def compute_topic(row):\n",
    "    return topic_gen.get_topic({\"documents\": row[\"three_titles\"].split('\\n')})"
   ]
  },
  {
   "cell_type": "code",
   "execution_count": null,
   "id": "0bc64325-9f70-40fc-bca7-b15d4ef028d0",
   "metadata": {},
   "outputs": [],
   "source": []
  },
  {
   "cell_type": "code",
   "execution_count": 18,
   "id": "d9e6e08c-d0d7-482d-a8ed-0f2d37f71a94",
   "metadata": {},
   "outputs": [],
   "source": [
    "\n",
    "multitab_tests[\"recomputed_titles_keywords\"] = multitab_tests.apply(lambda row: compute_topic_keywords(row), axis=1)\n",
    "#multitab_tests[\"recomputed_title_no_keywords\"] = multitab_tests.apply(lambda row: compute_topic(row), axis=1)\n",
    "# Look at OpenAI can do for generating topics from a set of tabs\n",
    "#llm_topic_gen_no_keywords = OpenAITopicGenerator(support_keywords=False)\n",
    "#multitab_tests[\"openai_keywords\"] = multitab_tests.apply(lambda row: llm_topic_gen_keywords.get_topic({\"documents\": row.three_titles.split(\"\\n\"), \"keywords\": row.keywords.split(\",\")}), axis=1)\n",
    "#print_rouge_scores(multitab_tests, \"openai_keywords\")\n",
    "# Compare with fine tuned model\n",
    "#topic_gen = T5TopicGenerator(model_name=\"./models/gentle-pyramid-114\")\n",
    "#multitab_tests[\"recomputed_title_keywords_pyramid\"] = multitab_tests.apply(lambda row: compute_topic_keywords(row, legacy=False), axis=1)\n",
    "#print_rouge_scores(multitab_tests, \"recomputed_title_keywords_pyramid\")\n"
   ]
  },
  {
   "cell_type": "code",
   "execution_count": 32,
   "id": "d1f199de-575c-4d9d-82fb-4d5205ba0614",
   "metadata": {},
   "outputs": [],
   "source": [
    "models = [\n",
    "          {\"name\": \"cool-yogurt-98\", \"legacy_data_format\": False},\n",
    "          {\"name\": \"dainty-blaze-127\", \"legacy_data_format\": False},\n",
    "          {\"name\": \"major-cloud-188\", \"legacy_data_format\": False},\n",
    "        {\"name\": \"dainty-river-189\",\"legacy_data_format\": False},\n",
    "        {\"name\": \"gallant-sunset-190\",\"legacy_data_format\": False},\n",
    "        {\"name\": \"upbeat-eon-195\", \"legacy_data_format\": False}\n",
    "         ]\n",
    "\n",
    "# pious-butterfly-170 is broken\n"
   ]
  },
  {
   "cell_type": "code",
   "execution_count": 33,
   "id": "e79ea79f-62c2-41d8-8377-ffe5099f5194",
   "metadata": {},
   "outputs": [],
   "source": [
    "single_tab_tests[\"keywords\"] = pd.Series(dtype=str)\n",
    "single_tab_tests = single_tab_tests.fillna(\"\")"
   ]
  },
  {
   "cell_type": "code",
   "execution_count": null,
   "id": "f84145f7-53d4-4f82-8503-fbba6d797e2b",
   "metadata": {},
   "outputs": [],
   "source": []
  },
  {
   "cell_type": "code",
   "execution_count": 34,
   "id": "718dc98e-02dd-41c1-b212-5487b9477a0b",
   "metadata": {},
   "outputs": [
    {
     "name": "stdout",
     "output_type": "stream",
     "text": [
      "/Users/Rrando/Documents/GitHub/smart-tab-grouping\n",
      "cool-yogurt-98 - MultiTab Tests\n",
      "cool-yogurt-98 - Single Tab Tests\n",
      "/Users/Rrando/Documents/GitHub/smart-tab-grouping\n",
      "dainty-blaze-127 - MultiTab Tests\n",
      "dainty-blaze-127 - Single Tab Tests\n",
      "/Users/Rrando/Documents/GitHub/smart-tab-grouping\n",
      "major-cloud-188 - MultiTab Tests\n",
      "major-cloud-188 - Single Tab Tests\n",
      "/Users/Rrando/Documents/GitHub/smart-tab-grouping\n",
      "dainty-river-189 - MultiTab Tests\n",
      "dainty-river-189 - Single Tab Tests\n",
      "/Users/Rrando/Documents/GitHub/smart-tab-grouping\n",
      "gallant-sunset-190 - MultiTab Tests\n",
      "gallant-sunset-190 - Single Tab Tests\n",
      "/Users/Rrando/Documents/GitHub/smart-tab-grouping\n",
      "upbeat-eon-195 - MultiTab Tests\n",
      "upbeat-eon-195 - Single Tab Tests\n"
     ]
    }
   ],
   "source": [
    "single_tab_score = []\n",
    "multi_tab_score = []\n",
    "\n",
    "for model_info in models:\n",
    "    name = model_info[\"name\"]\n",
    "    topic_gen = T5TopicGenerator(model_name=f\"./models/{name}\")\n",
    "    col = f\"recomputed_title_keywords_{name}\"\n",
    "    multitab_tests[col] = multitab_tests.apply(lambda row: compute_topic_keywords(row, legacy=model_info[\"legacy_data_format\"]), axis=1)\n",
    "    print(f\"{name} - MultiTab Tests\")\n",
    "    score = get_avg_scores(multitab_tests, col)\n",
    "    score[\"model\"] = name\n",
    "    multi_tab_score.append(score)\n",
    "    \n",
    "    single_tab_tests[col] = single_tab_tests.apply(lambda row: compute_topic_keywords_single(row, legacy=model_info[\"legacy_data_format\"]), axis=1)\n",
    "    print(f\"{name} - Single Tab Tests\")\n",
    "    score = get_avg_scores(single_tab_tests, col)\n",
    "    score[\"model\"] = name\n",
    "    single_tab_score.append(score)\n",
    "\n",
    "    \n",
    "    "
   ]
  },
  {
   "cell_type": "code",
   "execution_count": null,
   "id": "750893b6-547c-44d5-bd3b-23162fc8ccb0",
   "metadata": {},
   "outputs": [],
   "source": []
  },
  {
   "cell_type": "code",
   "execution_count": null,
   "id": "cf56c4c7-eee9-463e-9439-55952ffd66e2",
   "metadata": {},
   "outputs": [],
   "source": []
  },
  {
   "cell_type": "code",
   "execution_count": 35,
   "id": "afe39759-73a2-4d20-8b6c-553cb562d64c",
   "metadata": {},
   "outputs": [],
   "source": [
    "single_tab_df = pd.DataFrame(single_tab_score)\n",
    "multi_tab_df = pd.DataFrame(multi_tab_score)"
   ]
  },
  {
   "cell_type": "code",
   "execution_count": 36,
   "id": "36ae52b0-72c6-47ac-a710-6548173428cf",
   "metadata": {},
   "outputs": [
    {
     "data": {
      "text/html": [
       "<div>\n",
       "<style scoped>\n",
       "    .dataframe tbody tr th:only-of-type {\n",
       "        vertical-align: middle;\n",
       "    }\n",
       "\n",
       "    .dataframe tbody tr th {\n",
       "        vertical-align: top;\n",
       "    }\n",
       "\n",
       "    .dataframe thead th {\n",
       "        text-align: right;\n",
       "    }\n",
       "</style>\n",
       "<table border=\"1\" class=\"dataframe\">\n",
       "  <thead>\n",
       "    <tr style=\"text-align: right;\">\n",
       "      <th></th>\n",
       "      <th>rouge1</th>\n",
       "      <th>rouge2</th>\n",
       "      <th>rougeL</th>\n",
       "      <th>pred_len</th>\n",
       "      <th>label_len</th>\n",
       "      <th>cos_sim</th>\n",
       "      <th>model</th>\n",
       "    </tr>\n",
       "  </thead>\n",
       "  <tbody>\n",
       "    <tr>\n",
       "      <th>0</th>\n",
       "      <td>0.328373</td>\n",
       "      <td>0.072222</td>\n",
       "      <td>0.328373</td>\n",
       "      <td>16.333333</td>\n",
       "      <td>11.375</td>\n",
       "      <td>0.481831</td>\n",
       "      <td>cool-yogurt-98</td>\n",
       "    </tr>\n",
       "    <tr>\n",
       "      <th>1</th>\n",
       "      <td>0.275694</td>\n",
       "      <td>0.069444</td>\n",
       "      <td>0.275694</td>\n",
       "      <td>13.875000</td>\n",
       "      <td>11.375</td>\n",
       "      <td>0.453263</td>\n",
       "      <td>dainty-blaze-127</td>\n",
       "    </tr>\n",
       "    <tr>\n",
       "      <th>2</th>\n",
       "      <td>0.260119</td>\n",
       "      <td>0.052083</td>\n",
       "      <td>0.260119</td>\n",
       "      <td>13.104167</td>\n",
       "      <td>11.375</td>\n",
       "      <td>0.433384</td>\n",
       "      <td>major-cloud-188</td>\n",
       "    </tr>\n",
       "    <tr>\n",
       "      <th>3</th>\n",
       "      <td>0.265972</td>\n",
       "      <td>0.052083</td>\n",
       "      <td>0.265972</td>\n",
       "      <td>12.812500</td>\n",
       "      <td>11.375</td>\n",
       "      <td>0.449383</td>\n",
       "      <td>dainty-river-189</td>\n",
       "    </tr>\n",
       "    <tr>\n",
       "      <th>4</th>\n",
       "      <td>0.181944</td>\n",
       "      <td>0.000000</td>\n",
       "      <td>0.181944</td>\n",
       "      <td>11.875000</td>\n",
       "      <td>11.375</td>\n",
       "      <td>0.385708</td>\n",
       "      <td>gallant-sunset-190</td>\n",
       "    </tr>\n",
       "    <tr>\n",
       "      <th>5</th>\n",
       "      <td>0.270139</td>\n",
       "      <td>0.031250</td>\n",
       "      <td>0.270139</td>\n",
       "      <td>13.250000</td>\n",
       "      <td>11.375</td>\n",
       "      <td>0.444296</td>\n",
       "      <td>upbeat-eon-195</td>\n",
       "    </tr>\n",
       "  </tbody>\n",
       "</table>\n",
       "</div>"
      ],
      "text/plain": [
       "     rouge1    rouge2    rougeL   pred_len  label_len   cos_sim  \\\n",
       "0  0.328373  0.072222  0.328373  16.333333     11.375  0.481831   \n",
       "1  0.275694  0.069444  0.275694  13.875000     11.375  0.453263   \n",
       "2  0.260119  0.052083  0.260119  13.104167     11.375  0.433384   \n",
       "3  0.265972  0.052083  0.265972  12.812500     11.375  0.449383   \n",
       "4  0.181944  0.000000  0.181944  11.875000     11.375  0.385708   \n",
       "5  0.270139  0.031250  0.270139  13.250000     11.375  0.444296   \n",
       "\n",
       "                model  \n",
       "0      cool-yogurt-98  \n",
       "1    dainty-blaze-127  \n",
       "2     major-cloud-188  \n",
       "3    dainty-river-189  \n",
       "4  gallant-sunset-190  \n",
       "5      upbeat-eon-195  "
      ]
     },
     "execution_count": 36,
     "metadata": {},
     "output_type": "execute_result"
    }
   ],
   "source": [
    "multi_tab_df"
   ]
  },
  {
   "cell_type": "code",
   "execution_count": 37,
   "id": "eeb97658-4222-47c0-b814-4d4a22558f02",
   "metadata": {},
   "outputs": [
    {
     "data": {
      "text/html": [
       "<div>\n",
       "<style scoped>\n",
       "    .dataframe tbody tr th:only-of-type {\n",
       "        vertical-align: middle;\n",
       "    }\n",
       "\n",
       "    .dataframe tbody tr th {\n",
       "        vertical-align: top;\n",
       "    }\n",
       "\n",
       "    .dataframe thead th {\n",
       "        text-align: right;\n",
       "    }\n",
       "</style>\n",
       "<table border=\"1\" class=\"dataframe\">\n",
       "  <thead>\n",
       "    <tr style=\"text-align: right;\">\n",
       "      <th></th>\n",
       "      <th>rouge1</th>\n",
       "      <th>rouge2</th>\n",
       "      <th>rougeL</th>\n",
       "      <th>pred_len</th>\n",
       "      <th>label_len</th>\n",
       "      <th>cos_sim</th>\n",
       "      <th>model</th>\n",
       "    </tr>\n",
       "  </thead>\n",
       "  <tbody>\n",
       "    <tr>\n",
       "      <th>0</th>\n",
       "      <td>0.315741</td>\n",
       "      <td>0.115741</td>\n",
       "      <td>0.315741</td>\n",
       "      <td>14.972222</td>\n",
       "      <td>8.527778</td>\n",
       "      <td>0.462089</td>\n",
       "      <td>cool-yogurt-98</td>\n",
       "    </tr>\n",
       "    <tr>\n",
       "      <th>1</th>\n",
       "      <td>0.381019</td>\n",
       "      <td>0.111111</td>\n",
       "      <td>0.381019</td>\n",
       "      <td>13.638889</td>\n",
       "      <td>8.527778</td>\n",
       "      <td>0.521137</td>\n",
       "      <td>dainty-blaze-127</td>\n",
       "    </tr>\n",
       "    <tr>\n",
       "      <th>2</th>\n",
       "      <td>0.421429</td>\n",
       "      <td>0.140741</td>\n",
       "      <td>0.421429</td>\n",
       "      <td>13.111111</td>\n",
       "      <td>8.527778</td>\n",
       "      <td>0.540664</td>\n",
       "      <td>major-cloud-188</td>\n",
       "    </tr>\n",
       "    <tr>\n",
       "      <th>3</th>\n",
       "      <td>0.372222</td>\n",
       "      <td>0.111111</td>\n",
       "      <td>0.372222</td>\n",
       "      <td>12.222222</td>\n",
       "      <td>8.527778</td>\n",
       "      <td>0.491993</td>\n",
       "      <td>dainty-river-189</td>\n",
       "    </tr>\n",
       "    <tr>\n",
       "      <th>4</th>\n",
       "      <td>0.279630</td>\n",
       "      <td>0.083333</td>\n",
       "      <td>0.279630</td>\n",
       "      <td>10.750000</td>\n",
       "      <td>8.527778</td>\n",
       "      <td>0.464003</td>\n",
       "      <td>gallant-sunset-190</td>\n",
       "    </tr>\n",
       "    <tr>\n",
       "      <th>5</th>\n",
       "      <td>0.387963</td>\n",
       "      <td>0.157407</td>\n",
       "      <td>0.387963</td>\n",
       "      <td>13.027778</td>\n",
       "      <td>8.527778</td>\n",
       "      <td>0.522846</td>\n",
       "      <td>upbeat-eon-195</td>\n",
       "    </tr>\n",
       "  </tbody>\n",
       "</table>\n",
       "</div>"
      ],
      "text/plain": [
       "     rouge1    rouge2    rougeL   pred_len  label_len   cos_sim  \\\n",
       "0  0.315741  0.115741  0.315741  14.972222   8.527778  0.462089   \n",
       "1  0.381019  0.111111  0.381019  13.638889   8.527778  0.521137   \n",
       "2  0.421429  0.140741  0.421429  13.111111   8.527778  0.540664   \n",
       "3  0.372222  0.111111  0.372222  12.222222   8.527778  0.491993   \n",
       "4  0.279630  0.083333  0.279630  10.750000   8.527778  0.464003   \n",
       "5  0.387963  0.157407  0.387963  13.027778   8.527778  0.522846   \n",
       "\n",
       "                model  \n",
       "0      cool-yogurt-98  \n",
       "1    dainty-blaze-127  \n",
       "2     major-cloud-188  \n",
       "3    dainty-river-189  \n",
       "4  gallant-sunset-190  \n",
       "5      upbeat-eon-195  "
      ]
     },
     "execution_count": 37,
     "metadata": {},
     "output_type": "execute_result"
    }
   ],
   "source": [
    "single_tab_df"
   ]
  },
  {
   "cell_type": "code",
   "execution_count": null,
   "id": "8a18295d-449f-4e45-a1f7-b4619e205e2b",
   "metadata": {},
   "outputs": [],
   "source": [
    "single_tab_tests.columns"
   ]
  },
  {
   "cell_type": "code",
   "execution_count": null,
   "id": "f5d4e6f2-bffd-4a51-810e-61190b944ed6",
   "metadata": {},
   "outputs": [],
   "source": [
    "from jobs.tune_base import keyword_prompt"
   ]
  },
  {
   "cell_type": "code",
   "execution_count": null,
   "id": "b3a854f2-5b6e-4b78-88b9-898e4895e388",
   "metadata": {},
   "outputs": [],
   "source": [
    "keyword_prompt.generate_prompt(\"DOC NAME\", \"\")"
   ]
  },
  {
   "cell_type": "code",
   "execution_count": null,
   "id": "7e8e1e75-ccac-41b9-81e3-f24b7f173a07",
   "metadata": {},
   "outputs": [],
   "source": [
    "from transformers import T5ForConditionalGeneration, T5Tokenizer, pipeline, T5Config\n"
   ]
  },
  {
   "cell_type": "code",
   "execution_count": null,
   "id": "65a6c525-2a88-4452-872d-f4296ac958eb",
   "metadata": {},
   "outputs": [],
   "source": [
    "name = \"cool-yogurt-98\"\n",
    "c = T5Config.from_pretrained(f\"./models/{name}\")\n",
    "model = T5ForConditionalGeneration.from_pretrained(f\"./models/{name}\", config=c)\n",
    "#model = T5ForConditionalGeneration.from_pretrained(f\"./models/{name}\")"
   ]
  },
  {
   "cell_type": "code",
   "execution_count": null,
   "id": "adcdf1b2-d4a1-44d2-9838-6ffe98d178e2",
   "metadata": {},
   "outputs": [],
   "source": [
    "len(getattr(model, \"decoder\").block)"
   ]
  },
  {
   "cell_type": "code",
   "execution_count": null,
   "id": "052d1272-222b-44c7-b140-958a40adc994",
   "metadata": {},
   "outputs": [],
   "source": [
    "len(getattr(model, \"encoder\").block)"
   ]
  },
  {
   "cell_type": "code",
   "execution_count": null,
   "id": "c979d0ed-bc35-4879-a265-4f8a8a72302d",
   "metadata": {},
   "outputs": [],
   "source": [
    "model.config.num_layers"
   ]
  },
  {
   "cell_type": "code",
   "execution_count": null,
   "id": "00d61a2a-29ee-4bd1-8c82-4069c2174678",
   "metadata": {},
   "outputs": [],
   "source": [
    "layers_to_remove = [i for i in range(1, 4 * 2, 2)]"
   ]
  },
  {
   "cell_type": "code",
   "execution_count": null,
   "id": "68baf669-edd3-41cc-ac3e-c7d79ba4d858",
   "metadata": {},
   "outputs": [],
   "source": [
    "layers_to_remove"
   ]
  },
  {
   "cell_type": "code",
   "execution_count": null,
   "id": "8f6384bc-35df-47ad-8b4e-5ba101a9998c",
   "metadata": {},
   "outputs": [],
   "source": [
    "del getattr(model, \"encoder\").block[7]\n",
    "del getattr(model, \"encoder\").block[5]\n",
    "del getattr(model, \"encoder\").block[3]\n",
    "del getattr(model, \"encoder\").block[1]\n"
   ]
  },
  {
   "cell_type": "code",
   "execution_count": null,
   "id": "d439fcad-8acf-4d43-82a0-2cae08aed441",
   "metadata": {},
   "outputs": [],
   "source": [
    "del getattr(model, \"decoder\").block[7]\n",
    "del getattr(model, \"decoder\").block[5]\n",
    "del getattr(model, \"decoder\").block[3]\n",
    "del getattr(model, \"decoder\").block[1]\n"
   ]
  },
  {
   "cell_type": "code",
   "execution_count": null,
   "id": "9a0be2a4-7f5d-47a8-b866-86517392ec8f",
   "metadata": {},
   "outputs": [],
   "source": [
    "len(getattr(model, \"decoder\").block)"
   ]
  },
  {
   "cell_type": "code",
   "execution_count": null,
   "id": "0670ce54-fa9e-4098-b60d-473d5947018a",
   "metadata": {},
   "outputs": [],
   "source": [
    "model.config.num_decoder_layers = len(getattr(model, \"decoder\").block)\n",
    "model.config.num_layers = len(getattr(model, \"encoder\").block)"
   ]
  },
  {
   "cell_type": "code",
   "execution_count": null,
   "id": "c0d7be18-9522-4a08-9a51-a7470cf511aa",
   "metadata": {},
   "outputs": [],
   "source": []
  },
  {
   "cell_type": "code",
   "execution_count": null,
   "id": "ca2b0acf-da94-4be7-9962-42d8f6ee6008",
   "metadata": {},
   "outputs": [],
   "source": []
  },
  {
   "cell_type": "code",
   "execution_count": null,
   "id": "2df14b89-4b5c-47eb-99fc-80463b9d5873",
   "metadata": {},
   "outputs": [],
   "source": [
    "generate_response(\"Topic from keywords: . titles: \\n Dogs and Cats are awesome but buy the Tacos\")"
   ]
  },
  {
   "cell_type": "code",
   "execution_count": null,
   "id": "12f1f7f4-3d88-4a9d-940d-f472cca61eb3",
   "metadata": {},
   "outputs": [],
   "source": []
  },
  {
   "cell_type": "code",
   "execution_count": null,
   "id": "76f37a56-5a67-4d11-af8f-3cd9a3c45af1",
   "metadata": {},
   "outputs": [],
   "source": [
    "model.save_pretrained(\"./models/test_remove/\")\n",
    "tokenizer.save_pretrained(\"./models/test_remove/\")\n"
   ]
  },
  {
   "cell_type": "code",
   "execution_count": null,
   "id": "843e6174-b757-486a-a02f-f54ff029324a",
   "metadata": {},
   "outputs": [],
   "source": [
    "c = T5Config.from_pretrained(f\"./models/test_remove\")\n",
    "model = T5ForConditionalGeneration.from_pretrained(f\"./models/test_remove\", config=c)"
   ]
  },
  {
   "cell_type": "code",
   "execution_count": null,
   "id": "264efb08-f571-48f8-b666-eb095cd46c2a",
   "metadata": {},
   "outputs": [],
   "source": [
    "#model = test_removd"
   ]
  },
  {
   "cell_type": "code",
   "execution_count": null,
   "id": "32a60033-c832-422c-bb0d-d4a3da154f0e",
   "metadata": {},
   "outputs": [],
   "source": [
    "generate_response(\"Topic from keywords: . titles: \\n Dogs and Cats are awesome but buy the Tacos\")"
   ]
  },
  {
   "cell_type": "code",
   "execution_count": null,
   "id": "57243da4-d4a8-4195-9798-582b025c030d",
   "metadata": {},
   "outputs": [],
   "source": [
    "len(getattr(model, \"encoder\").block)"
   ]
  },
  {
   "cell_type": "code",
   "execution_count": null,
   "id": "93b8eb9a-655a-4fc3-9220-ecc691d74d5b",
   "metadata": {},
   "outputs": [],
   "source": [
    "for name, param in model.named_parameters():\n",
    "    print(name)"
   ]
  },
  {
   "cell_type": "code",
   "execution_count": null,
   "id": "422a5955-c502-4992-a2d3-e338591a50d7",
   "metadata": {},
   "outputs": [],
   "source": [
    "for i, block in enumerate(getattr(model, \"encoder\").block):\n",
    "    print(f\"Layer {i}: {block}\")\n"
   ]
  },
  {
   "cell_type": "code",
   "execution_count": null,
   "id": "7e801f66-2957-4bef-b38c-1336aa7a3655",
   "metadata": {},
   "outputs": [],
   "source": [
    "getattr(model, \"encoder\").block"
   ]
  },
  {
   "cell_type": "code",
   "execution_count": null,
   "id": "c39117fc-5587-40e6-952e-7846d28cf318",
   "metadata": {},
   "outputs": [],
   "source": [
    "model = T5ForConditionalGeneration.from_pretrained(f\"./models/{name}\", config=config)\n",
    "tokenizer = T5Tokenizer.from_pretrained(f\"./models/{name}\")\n"
   ]
  },
  {
   "cell_type": "code",
   "execution_count": null,
   "id": "8c0e878b-1749-4a48-8775-fec5803627d9",
   "metadata": {},
   "outputs": [],
   "source": [
    "def generate_response(prompt, max_tokens=14):\n",
    "        input_ids = tokenizer(prompt, return_tensors=\"pt\").input_ids\n",
    "        outputs = model.generate(input_ids, max_length=max_tokens, num_return_sequences=1)\n",
    "        response = tokenizer.decode(outputs[0], skip_special_tokens=True)\n",
    "        return response\n"
   ]
  },
  {
   "cell_type": "code",
   "execution_count": null,
   "id": "3c572407-0bbf-47e0-947e-8b20fea16f04",
   "metadata": {},
   "outputs": [],
   "source": [
    "generate_response(\"Topic from keywords: . titles: \\n Groceries\")"
   ]
  },
  {
   "cell_type": "code",
   "execution_count": null,
   "id": "02c9bb37-be84-4060-81ef-a2998c1c1b55",
   "metadata": {},
   "outputs": [],
   "source": []
  }
 ],
 "metadata": {
  "kernelspec": {
   "display_name": "Python 3 (ipykernel)",
   "language": "python",
   "name": "python3"
  },
  "language_info": {
   "codemirror_mode": {
    "name": "ipython",
    "version": 3
   },
   "file_extension": ".py",
   "mimetype": "text/x-python",
   "name": "python",
   "nbconvert_exporter": "python",
   "pygments_lexer": "ipython3",
   "version": "3.11.4"
  }
 },
 "nbformat": 4,
 "nbformat_minor": 5
}
