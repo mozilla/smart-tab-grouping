{
 "cells": [
  {
   "cell_type": "code",
   "execution_count": 1,
   "id": "339f89e2-2a5f-4f79-9ef6-a78277ee7ac4",
   "metadata": {},
   "outputs": [],
   "source": [
    "import pandas as pd"
   ]
  },
  {
   "cell_type": "code",
   "execution_count": 2,
   "id": "10cc35b1-39eb-432a-9ed4-3e54415856a0",
   "metadata": {},
   "outputs": [
    {
     "name": "stdout",
     "output_type": "stream",
     "text": [
      "/Users/Rrando/Documents/GitHub/content-ml-experiments/tab_grouping\n"
     ]
    }
   ],
   "source": [
    "!pwd"
   ]
  },
  {
   "cell_type": "code",
   "execution_count": 1,
   "id": "ece0cfb8-1b10-47d1-95be-579bb1375625",
   "metadata": {},
   "outputs": [
    {
     "ename": "NameError",
     "evalue": "name 'pd' is not defined",
     "output_type": "error",
     "traceback": [
      "\u001B[0;31m---------------------------------------------------------------------------\u001B[0m",
      "\u001B[0;31mNameError\u001B[0m                                 Traceback (most recent call last)",
      "Cell \u001B[0;32mIn[1], line 1\u001B[0m\n\u001B[0;32m----> 1\u001B[0m fine_tune_raw \u001B[38;5;241m=\u001B[39m \u001B[43mpd\u001B[49m\u001B[38;5;241m.\u001B[39mread_csv(\u001B[38;5;124m\"\u001B[39m\u001B[38;5;124m./extract/topic_topic_fine_tuning_data__2025-02-21_16-50.csv\u001B[39m\u001B[38;5;124m\"\u001B[39m)\n",
      "\u001B[0;31mNameError\u001B[0m: name 'pd' is not defined"
     ]
    }
   ],
   "source": [
    "fine_tune_raw = pd.read_csv(\"./extract/guided_output_2_10.csv\")"
   ]
  },
  {
   "cell_type": "code",
   "execution_count": 4,
   "id": "62281e4b-a73d-4709-a4f8-7a95502bc83a",
   "metadata": {},
   "outputs": [
    {
     "data": {
      "text/html": [
       "<div>\n",
       "<style scoped>\n",
       "    .dataframe tbody tr th:only-of-type {\n",
       "        vertical-align: middle;\n",
       "    }\n",
       "\n",
       "    .dataframe tbody tr th {\n",
       "        vertical-align: top;\n",
       "    }\n",
       "\n",
       "    .dataframe thead th {\n",
       "        text-align: right;\n",
       "    }\n",
       "</style>\n",
       "<table border=\"1\" class=\"dataframe\">\n",
       "  <thead>\n",
       "    <tr style=\"text-align: right;\">\n",
       "      <th></th>\n",
       "      <th>Unnamed: 0.2</th>\n",
       "      <th>Unnamed: 0.1</th>\n",
       "      <th>Unnamed: 0</th>\n",
       "      <th>input_titles</th>\n",
       "      <th>input_keywords</th>\n",
       "      <th>output</th>\n",
       "      <th>assigned_topic</th>\n",
       "      <th>Hint</th>\n",
       "      <th>hint_guided_output</th>\n",
       "    </tr>\n",
       "  </thead>\n",
       "  <tbody>\n",
       "    <tr>\n",
       "      <th>2507</th>\n",
       "      <td>2507</td>\n",
       "      <td>1028</td>\n",
       "      <td>1028</td>\n",
       "      <td>Collectors Community Events Calendar\\nUpcoming...</td>\n",
       "      <td>collectors,upcoming,webinars</td>\n",
       "      <td>Collector Events and Webinars</td>\n",
       "      <td>92</td>\n",
       "      <td>NaN</td>\n",
       "      <td>Collector Events</td>\n",
       "    </tr>\n",
       "    <tr>\n",
       "      <th>850</th>\n",
       "      <td>850</td>\n",
       "      <td>2450</td>\n",
       "      <td>2450</td>\n",
       "      <td>High-mileage electric car usage is working out...</td>\n",
       "      <td>NaN</td>\n",
       "      <td>Electric Vehicle Costs</td>\n",
       "      <td>16</td>\n",
       "      <td>NaN</td>\n",
       "      <td>Electric Vehicle Costs</td>\n",
       "    </tr>\n",
       "    <tr>\n",
       "      <th>976</th>\n",
       "      <td>976</td>\n",
       "      <td>1379</td>\n",
       "      <td>1379</td>\n",
       "      <td>Vintage Handmade Wooden Toy - Etsy\\nCustom Han...</td>\n",
       "      <td>etsy,handmade,items</td>\n",
       "      <td>Handmade Items on Etsy</td>\n",
       "      <td>20</td>\n",
       "      <td>NaN</td>\n",
       "      <td>Handmade Items on Etsy</td>\n",
       "    </tr>\n",
       "    <tr>\n",
       "      <th>2088</th>\n",
       "      <td>2088</td>\n",
       "      <td>2221</td>\n",
       "      <td>2221</td>\n",
       "      <td>Why the Past 10 Years of American Life Have Be...</td>\n",
       "      <td>NaN</td>\n",
       "      <td>American Society Analysis</td>\n",
       "      <td>62</td>\n",
       "      <td>NaN</td>\n",
       "      <td>Cultural Commentary</td>\n",
       "    </tr>\n",
       "    <tr>\n",
       "      <th>812</th>\n",
       "      <td>812</td>\n",
       "      <td>2403</td>\n",
       "      <td>2403</td>\n",
       "      <td>How To Turn One LinkedIn Post Into A Week Of C...</td>\n",
       "      <td>NaN</td>\n",
       "      <td>Content Creation Tips</td>\n",
       "      <td>15</td>\n",
       "      <td>NaN</td>\n",
       "      <td>Content Creation</td>\n",
       "    </tr>\n",
       "    <tr>\n",
       "      <th>...</th>\n",
       "      <td>...</td>\n",
       "      <td>...</td>\n",
       "      <td>...</td>\n",
       "      <td>...</td>\n",
       "      <td>...</td>\n",
       "      <td>...</td>\n",
       "      <td>...</td>\n",
       "      <td>...</td>\n",
       "      <td>...</td>\n",
       "    </tr>\n",
       "    <tr>\n",
       "      <th>2042</th>\n",
       "      <td>2042</td>\n",
       "      <td>1932</td>\n",
       "      <td>1932</td>\n",
       "      <td>Farewell, then, Justin Welby. Good to see that...</td>\n",
       "      <td>NaN</td>\n",
       "      <td>Opinion Piece</td>\n",
       "      <td>60</td>\n",
       "      <td>NaN</td>\n",
       "      <td>Opinion Column</td>\n",
       "    </tr>\n",
       "    <tr>\n",
       "      <th>2438</th>\n",
       "      <td>2438</td>\n",
       "      <td>2033</td>\n",
       "      <td>2033</td>\n",
       "      <td>The JBL PartyBox Stage 320 Speaker Is Still $2...</td>\n",
       "      <td>NaN</td>\n",
       "      <td>Shopping Deal</td>\n",
       "      <td>85</td>\n",
       "      <td>NaN</td>\n",
       "      <td>Tech Deals</td>\n",
       "    </tr>\n",
       "    <tr>\n",
       "      <th>100</th>\n",
       "      <td>100</td>\n",
       "      <td>309</td>\n",
       "      <td>309</td>\n",
       "      <td>Online Bank - Payment History\\nOnline Bank - C...</td>\n",
       "      <td>bank,financial,management</td>\n",
       "      <td>Financial Services</td>\n",
       "      <td>1</td>\n",
       "      <td>NaN</td>\n",
       "      <td>Financial Management</td>\n",
       "    </tr>\n",
       "    <tr>\n",
       "      <th>1102</th>\n",
       "      <td>1102</td>\n",
       "      <td>266</td>\n",
       "      <td>266</td>\n",
       "      <td>Alternate History Forum\\nRPG Historical Gamers...</td>\n",
       "      <td>historical,alternate,discussion</td>\n",
       "      <td>Historical Discussions &amp; Alternate History</td>\n",
       "      <td>24</td>\n",
       "      <td>NaN</td>\n",
       "      <td>Alternate History Discussion</td>\n",
       "    </tr>\n",
       "    <tr>\n",
       "      <th>2332</th>\n",
       "      <td>2332</td>\n",
       "      <td>986</td>\n",
       "      <td>986</td>\n",
       "      <td>Trends in Smart Home Technology Policy\\nThe Be...</td>\n",
       "      <td>smart,home,systems</td>\n",
       "      <td>Smart Home Technology</td>\n",
       "      <td>77</td>\n",
       "      <td>NaN</td>\n",
       "      <td>Smart Home Systems</td>\n",
       "    </tr>\n",
       "  </tbody>\n",
       "</table>\n",
       "<p>100 rows × 9 columns</p>\n",
       "</div>"
      ],
      "text/plain": [
       "      Unnamed: 0.2  Unnamed: 0.1  Unnamed: 0  \\\n",
       "2507          2507          1028        1028   \n",
       "850            850          2450        2450   \n",
       "976            976          1379        1379   \n",
       "2088          2088          2221        2221   \n",
       "812            812          2403        2403   \n",
       "...            ...           ...         ...   \n",
       "2042          2042          1932        1932   \n",
       "2438          2438          2033        2033   \n",
       "100            100           309         309   \n",
       "1102          1102           266         266   \n",
       "2332          2332           986         986   \n",
       "\n",
       "                                           input_titles  \\\n",
       "2507  Collectors Community Events Calendar\\nUpcoming...   \n",
       "850   High-mileage electric car usage is working out...   \n",
       "976   Vintage Handmade Wooden Toy - Etsy\\nCustom Han...   \n",
       "2088  Why the Past 10 Years of American Life Have Be...   \n",
       "812   How To Turn One LinkedIn Post Into A Week Of C...   \n",
       "...                                                 ...   \n",
       "2042  Farewell, then, Justin Welby. Good to see that...   \n",
       "2438  The JBL PartyBox Stage 320 Speaker Is Still $2...   \n",
       "100   Online Bank - Payment History\\nOnline Bank - C...   \n",
       "1102  Alternate History Forum\\nRPG Historical Gamers...   \n",
       "2332  Trends in Smart Home Technology Policy\\nThe Be...   \n",
       "\n",
       "                       input_keywords  \\\n",
       "2507     collectors,upcoming,webinars   \n",
       "850                               NaN   \n",
       "976               etsy,handmade,items   \n",
       "2088                              NaN   \n",
       "812                               NaN   \n",
       "...                               ...   \n",
       "2042                              NaN   \n",
       "2438                              NaN   \n",
       "100         bank,financial,management   \n",
       "1102  historical,alternate,discussion   \n",
       "2332               smart,home,systems   \n",
       "\n",
       "                                          output  assigned_topic Hint  \\\n",
       "2507               Collector Events and Webinars              92  NaN   \n",
       "850                       Electric Vehicle Costs              16  NaN   \n",
       "976                       Handmade Items on Etsy              20  NaN   \n",
       "2088                   American Society Analysis              62  NaN   \n",
       "812                        Content Creation Tips              15  NaN   \n",
       "...                                          ...             ...  ...   \n",
       "2042                               Opinion Piece              60  NaN   \n",
       "2438                               Shopping Deal              85  NaN   \n",
       "100                           Financial Services               1  NaN   \n",
       "1102  Historical Discussions & Alternate History              24  NaN   \n",
       "2332                       Smart Home Technology              77  NaN   \n",
       "\n",
       "                hint_guided_output  \n",
       "2507              Collector Events  \n",
       "850         Electric Vehicle Costs  \n",
       "976         Handmade Items on Etsy  \n",
       "2088           Cultural Commentary  \n",
       "812               Content Creation  \n",
       "...                            ...  \n",
       "2042                Opinion Column  \n",
       "2438                    Tech Deals  \n",
       "100           Financial Management  \n",
       "1102  Alternate History Discussion  \n",
       "2332            Smart Home Systems  \n",
       "\n",
       "[100 rows x 9 columns]"
      ]
     },
     "execution_count": 4,
     "metadata": {},
     "output_type": "execute_result"
    }
   ],
   "source": [
    "fine_tune_raw.sample(n=100)"
   ]
  },
  {
   "cell_type": "code",
   "execution_count": 5,
   "id": "59c38471-5572-4c11-b0c9-378c81a40a56",
   "metadata": {},
   "outputs": [
    {
     "data": {
      "text/plain": [
       "17.55394272263633"
      ]
     },
     "execution_count": 5,
     "metadata": {},
     "output_type": "execute_result"
    }
   ],
   "source": [
    "fine_tune_raw.hint_guided_output.str.len().mean()"
   ]
  },
  {
   "cell_type": "code",
   "execution_count": 6,
   "id": "ac56de4a-982f-4452-885c-0d988bffec47",
   "metadata": {},
   "outputs": [
    {
     "data": {
      "text/plain": [
       "19.29109454688113"
      ]
     },
     "execution_count": 6,
     "metadata": {},
     "output_type": "execute_result"
    }
   ],
   "source": [
    "fine_tune_raw.output.str.len().mean()"
   ]
  },
  {
   "cell_type": "code",
   "execution_count": null,
   "id": "6017fd27-de21-4ded-8552-5d0b7da6da4b",
   "metadata": {},
   "outputs": [],
   "source": []
  },
  {
   "cell_type": "code",
   "execution_count": 9,
   "id": "911120c8-710f-45b0-9dfb-3fce09032272",
   "metadata": {},
   "outputs": [
    {
     "data": {
      "text/plain": [
       "143"
      ]
     },
     "execution_count": 9,
     "metadata": {},
     "output_type": "execute_result"
    }
   ],
   "source": [
    "len(fine_tune_raw[fine_tune_raw.hint_guided_output.str.contains(\"&\")].output.to_list())"
   ]
  },
  {
   "cell_type": "code",
   "execution_count": 10,
   "id": "fae23b0a-b368-45ea-8fc6-c805c03a5fa0",
   "metadata": {},
   "outputs": [
    {
     "data": {
      "text/plain": [
       "260"
      ]
     },
     "execution_count": 10,
     "metadata": {},
     "output_type": "execute_result"
    }
   ],
   "source": [
    "len(fine_tune_raw[fine_tune_raw.output.str.contains(\" & \")].output.to_list())"
   ]
  },
  {
   "cell_type": "code",
   "execution_count": 11,
   "id": "d51ea9ab-50cb-4ff8-bf52-473f15f978cc",
   "metadata": {},
   "outputs": [
    {
     "data": {
      "text/plain": [
       "73"
      ]
     },
     "execution_count": 11,
     "metadata": {},
     "output_type": "execute_result"
    }
   ],
   "source": [
    "len(fine_tune_raw[fine_tune_raw.hint_guided_output.str.contains(\" and \")].output.to_list())"
   ]
  },
  {
   "cell_type": "code",
   "execution_count": 13,
   "id": "d8b8cf46-abfa-4783-86da-8abfe84f40b8",
   "metadata": {},
   "outputs": [
    {
     "data": {
      "text/plain": [
       "104"
      ]
     },
     "execution_count": 13,
     "metadata": {},
     "output_type": "execute_result"
    }
   ],
   "source": [
    "len(fine_tune_raw[fine_tune_raw.output.str.contains(\" and \")].output.to_list())"
   ]
  },
  {
   "cell_type": "code",
   "execution_count": 14,
   "id": "4c4d68c6-7f76-417e-8df8-e89ba5581b51",
   "metadata": {},
   "outputs": [
    {
     "data": {
      "text/plain": [
       "[]"
      ]
     },
     "execution_count": 14,
     "metadata": {},
     "output_type": "execute_result"
    }
   ],
   "source": [
    "fine_tune_raw[fine_tune_raw.output.str.contains(\" or \")].output.to_list()"
   ]
  },
  {
   "cell_type": "code",
   "execution_count": 15,
   "id": "c3ff845c-cefe-4819-8b4e-8aaa7e530725",
   "metadata": {},
   "outputs": [],
   "source": [
    "def remove_and(a: str):\n",
    "    words = a.split(\" \")\n",
    "    if len(words) < 2:\n",
    "        return a\n",
    "    for stopword in [\"and\", \"&\"]:\n",
    "        if stopword in words:\n",
    "            and_pos = words.index(stopword)\n",
    "            if and_pos > 0:\n",
    "                return \" \".join(words[0:and_pos])\n",
    "    return \" \".join(words)\n"
   ]
  },
  {
   "cell_type": "code",
   "execution_count": 27,
   "id": "48fd4041-af10-4344-af34-c3d8b05b1ab7",
   "metadata": {},
   "outputs": [
    {
     "data": {
      "text/plain": [
       "'Word'"
      ]
     },
     "execution_count": 27,
     "metadata": {},
     "output_type": "execute_result"
    }
   ],
   "source": [
    "remove_and(\"Word & Dog\")"
   ]
  },
  {
   "cell_type": "code",
   "execution_count": 16,
   "id": "861e6c18-1480-4ab6-9d10-1a1052ab9452",
   "metadata": {},
   "outputs": [],
   "source": [
    "def remove_or(a: str):\n",
    "    words = a.split(\" \")\n",
    "    if len(words) < 3:\n",
    "        return a\n",
    "    if words[-2] == 'or':\n",
    "        words = words[:-2]\n",
    "    return \" \".join(words)\n"
   ]
  },
  {
   "cell_type": "code",
   "execution_count": 17,
   "id": "5c2fa7d1-836b-44ee-aa86-5feee9b6f70b",
   "metadata": {},
   "outputs": [],
   "source": [
    "def remove_news(a: str):\n",
    "    words = a.split(\" \")\n",
    "    if len(words) == 1:\n",
    "        return a\n",
    "    if words[-1] == 'News':\n",
    "        words = words[:-1]\n",
    "    return \" \".join(words)\n"
   ]
  },
  {
   "cell_type": "code",
   "execution_count": 18,
   "id": "44bef088-35b6-4924-9e46-d8c7c64c433b",
   "metadata": {},
   "outputs": [
    {
     "data": {
      "text/plain": [
       "'Tech'"
      ]
     },
     "execution_count": 18,
     "metadata": {},
     "output_type": "execute_result"
    }
   ],
   "source": [
    "remove_news(\"Tech News\")"
   ]
  },
  {
   "cell_type": "code",
   "execution_count": 19,
   "id": "e2b4873f-23d9-43b7-82b3-874ae048bece",
   "metadata": {},
   "outputs": [],
   "source": [
    "def remove_year(a: str):\n",
    "    words = list(filter(lambda word: word not in [\"2023\", \"2024\"], a.split(\" \")))\n",
    "    return \" \".join(words)\n"
   ]
  },
  {
   "cell_type": "code",
   "execution_count": 18,
   "id": "7ded61a3-8e88-4879-a9ea-6256abc7393f",
   "metadata": {},
   "outputs": [
    {
     "data": {
      "text/plain": [
       "'News'"
      ]
     },
     "execution_count": 18,
     "metadata": {},
     "output_type": "execute_result"
    }
   ],
   "source": [
    "remove_or(\"News or Reviews\")"
   ]
  },
  {
   "cell_type": "code",
   "execution_count": 19,
   "id": "e482c56a-46f1-450f-97d6-e6deb53d52d4",
   "metadata": {},
   "outputs": [
    {
     "data": {
      "text/plain": [
       "'Review News'"
      ]
     },
     "execution_count": 19,
     "metadata": {},
     "output_type": "execute_result"
    }
   ],
   "source": [
    "remove_year(\"Review 2023 News\")"
   ]
  },
  {
   "cell_type": "code",
   "execution_count": 20,
   "id": "925e19a7-6a5a-42be-9163-41e4603646a8",
   "metadata": {},
   "outputs": [],
   "source": [
    "fine_tune_raw[\"output_orig\"] = fine_tune_raw[\"output\"]"
   ]
  },
  {
   "cell_type": "code",
   "execution_count": 21,
   "id": "c5e12d5b-33f2-4f77-a218-5ee68d9bd8eb",
   "metadata": {},
   "outputs": [],
   "source": [
    "fine_tune_raw[\"output\"] = fine_tune_raw[\"hint_guided_output\"].apply(remove_and)"
   ]
  },
  {
   "cell_type": "code",
   "execution_count": 22,
   "id": "4e429a1e-d9d9-408f-b264-4767ee621308",
   "metadata": {},
   "outputs": [],
   "source": [
    "fine_tune_raw[\"output\"] = fine_tune_raw[\"output\"].apply(remove_or)"
   ]
  },
  {
   "cell_type": "code",
   "execution_count": 23,
   "id": "aa532f59-863e-4074-8429-e8eab1e4b21c",
   "metadata": {},
   "outputs": [],
   "source": [
    "fine_tune_raw[\"output\"] = fine_tune_raw[\"output\"].apply(remove_year)"
   ]
  },
  {
   "cell_type": "code",
   "execution_count": 24,
   "id": "45a5fc4d-c8c4-4515-a2de-7254a5883cd3",
   "metadata": {},
   "outputs": [
    {
     "data": {
      "text/html": [
       "<div>\n",
       "<style scoped>\n",
       "    .dataframe tbody tr th:only-of-type {\n",
       "        vertical-align: middle;\n",
       "    }\n",
       "\n",
       "    .dataframe tbody tr th {\n",
       "        vertical-align: top;\n",
       "    }\n",
       "\n",
       "    .dataframe thead th {\n",
       "        text-align: right;\n",
       "    }\n",
       "</style>\n",
       "<table border=\"1\" class=\"dataframe\">\n",
       "  <thead>\n",
       "    <tr style=\"text-align: right;\">\n",
       "      <th></th>\n",
       "      <th>Unnamed: 0.2</th>\n",
       "      <th>Unnamed: 0.1</th>\n",
       "      <th>Unnamed: 0</th>\n",
       "      <th>input_titles</th>\n",
       "      <th>input_keywords</th>\n",
       "      <th>output</th>\n",
       "      <th>assigned_topic</th>\n",
       "      <th>Hint</th>\n",
       "      <th>hint_guided_output</th>\n",
       "      <th>output_orig</th>\n",
       "    </tr>\n",
       "  </thead>\n",
       "  <tbody>\n",
       "    <tr>\n",
       "      <th>1333</th>\n",
       "      <td>1333</td>\n",
       "      <td>904</td>\n",
       "      <td>904</td>\n",
       "      <td>Educational Streams: Festivals and Awards Arou...</td>\n",
       "      <td>NaN</td>\n",
       "      <td>Cultural Education</td>\n",
       "      <td>31</td>\n",
       "      <td>NaN</td>\n",
       "      <td>Cultural Education</td>\n",
       "      <td>Global Festivals Education</td>\n",
       "    </tr>\n",
       "    <tr>\n",
       "      <th>1224</th>\n",
       "      <td>1224</td>\n",
       "      <td>84</td>\n",
       "      <td>84</td>\n",
       "      <td>Workspace | Slack\\nData Analysis Course | Cour...</td>\n",
       "      <td>analysis,style,student</td>\n",
       "      <td>Student Resources</td>\n",
       "      <td>28</td>\n",
       "      <td>NaN</td>\n",
       "      <td>Student Resources</td>\n",
       "      <td>Student Tools</td>\n",
       "    </tr>\n",
       "    <tr>\n",
       "      <th>438</th>\n",
       "      <td>438</td>\n",
       "      <td>2467</td>\n",
       "      <td>2467</td>\n",
       "      <td>Rivalry games emotional enough without plantin...</td>\n",
       "      <td>NaN</td>\n",
       "      <td>Sports Commentary</td>\n",
       "      <td>6</td>\n",
       "      <td>NaN</td>\n",
       "      <td>Sports Commentary</td>\n",
       "      <td>Sportsmanship in Rivalry Games</td>\n",
       "    </tr>\n",
       "    <tr>\n",
       "      <th>1479</th>\n",
       "      <td>1479</td>\n",
       "      <td>1309</td>\n",
       "      <td>1309</td>\n",
       "      <td>Top Online Business Tools - Forbes\\nStartups a...</td>\n",
       "      <td>startups,startup,advice</td>\n",
       "      <td>Startup Resources</td>\n",
       "      <td>36</td>\n",
       "      <td>NaN</td>\n",
       "      <td>Startup Resources</td>\n",
       "      <td>Startup Resources</td>\n",
       "    </tr>\n",
       "    <tr>\n",
       "      <th>2495</th>\n",
       "      <td>2495</td>\n",
       "      <td>2481</td>\n",
       "      <td>2481</td>\n",
       "      <td>This Week’s Sex Story: A Woman Who Talks About...</td>\n",
       "      <td>NaN</td>\n",
       "      <td>Relationships</td>\n",
       "      <td>90</td>\n",
       "      <td>NaN</td>\n",
       "      <td>Relationships</td>\n",
       "      <td>Sex Stories</td>\n",
       "    </tr>\n",
       "    <tr>\n",
       "      <th>1422</th>\n",
       "      <td>1422</td>\n",
       "      <td>1033</td>\n",
       "      <td>1033</td>\n",
       "      <td>Drones in Modern Warfare: An Overview\\nWWII De...</td>\n",
       "      <td>defense,air,warfare</td>\n",
       "      <td>Military Defense</td>\n",
       "      <td>34</td>\n",
       "      <td>NaN</td>\n",
       "      <td>Military Defense</td>\n",
       "      <td>Military Defense</td>\n",
       "    </tr>\n",
       "    <tr>\n",
       "      <th>224</th>\n",
       "      <td>224</td>\n",
       "      <td>1439</td>\n",
       "      <td>1439</td>\n",
       "      <td>Best Restaurants in Copenhagen - TripAdvisor\\n...</td>\n",
       "      <td>copenhagen,airbnb,unique</td>\n",
       "      <td>Copenhagen Travel</td>\n",
       "      <td>2</td>\n",
       "      <td>NaN</td>\n",
       "      <td>Copenhagen Travel</td>\n",
       "      <td>Copenhagen Travel</td>\n",
       "    </tr>\n",
       "    <tr>\n",
       "      <th>2264</th>\n",
       "      <td>2264</td>\n",
       "      <td>1225</td>\n",
       "      <td>1225</td>\n",
       "      <td>Wedding Inspirations - TikTok\\nVendor Meetups ...</td>\n",
       "      <td>inspirations,meetups,pinterest</td>\n",
       "      <td>Event Inspirations</td>\n",
       "      <td>72</td>\n",
       "      <td>NaN</td>\n",
       "      <td>Event Inspirations</td>\n",
       "      <td>Event Inspirations</td>\n",
       "    </tr>\n",
       "    <tr>\n",
       "      <th>287</th>\n",
       "      <td>287</td>\n",
       "      <td>65</td>\n",
       "      <td>65</td>\n",
       "      <td>Questions About 2023 Winter Forecast - Weather...</td>\n",
       "      <td>weather,veterans,2023</td>\n",
       "      <td>Weather Preparedness</td>\n",
       "      <td>4</td>\n",
       "      <td>Weather</td>\n",
       "      <td>2023 Weather Preparedness</td>\n",
       "      <td>2023 Weather Preparedness</td>\n",
       "    </tr>\n",
       "    <tr>\n",
       "      <th>1196</th>\n",
       "      <td>1196</td>\n",
       "      <td>373</td>\n",
       "      <td>373</td>\n",
       "      <td>Unique Shopping Experiences in San Francisco\\n...</td>\n",
       "      <td>california,blogs,unique</td>\n",
       "      <td>California Fashion</td>\n",
       "      <td>27</td>\n",
       "      <td>NaN</td>\n",
       "      <td>California Fashion &amp; Lifestyle</td>\n",
       "      <td>California Lifestyle</td>\n",
       "    </tr>\n",
       "  </tbody>\n",
       "</table>\n",
       "</div>"
      ],
      "text/plain": [
       "      Unnamed: 0.2  Unnamed: 0.1  Unnamed: 0  \\\n",
       "1333          1333           904         904   \n",
       "1224          1224            84          84   \n",
       "438            438          2467        2467   \n",
       "1479          1479          1309        1309   \n",
       "2495          2495          2481        2481   \n",
       "1422          1422          1033        1033   \n",
       "224            224          1439        1439   \n",
       "2264          2264          1225        1225   \n",
       "287            287            65          65   \n",
       "1196          1196           373         373   \n",
       "\n",
       "                                           input_titles  \\\n",
       "1333  Educational Streams: Festivals and Awards Arou...   \n",
       "1224  Workspace | Slack\\nData Analysis Course | Cour...   \n",
       "438   Rivalry games emotional enough without plantin...   \n",
       "1479  Top Online Business Tools - Forbes\\nStartups a...   \n",
       "2495  This Week’s Sex Story: A Woman Who Talks About...   \n",
       "1422  Drones in Modern Warfare: An Overview\\nWWII De...   \n",
       "224   Best Restaurants in Copenhagen - TripAdvisor\\n...   \n",
       "2264  Wedding Inspirations - TikTok\\nVendor Meetups ...   \n",
       "287   Questions About 2023 Winter Forecast - Weather...   \n",
       "1196  Unique Shopping Experiences in San Francisco\\n...   \n",
       "\n",
       "                      input_keywords                output  assigned_topic  \\\n",
       "1333                             NaN    Cultural Education              31   \n",
       "1224          analysis,style,student     Student Resources              28   \n",
       "438                              NaN     Sports Commentary               6   \n",
       "1479         startups,startup,advice     Startup Resources              36   \n",
       "2495                             NaN         Relationships              90   \n",
       "1422             defense,air,warfare      Military Defense              34   \n",
       "224         copenhagen,airbnb,unique     Copenhagen Travel               2   \n",
       "2264  inspirations,meetups,pinterest    Event Inspirations              72   \n",
       "287            weather,veterans,2023  Weather Preparedness               4   \n",
       "1196         california,blogs,unique    California Fashion              27   \n",
       "\n",
       "         Hint              hint_guided_output                     output_orig  \n",
       "1333      NaN              Cultural Education      Global Festivals Education  \n",
       "1224      NaN               Student Resources                   Student Tools  \n",
       "438       NaN               Sports Commentary  Sportsmanship in Rivalry Games  \n",
       "1479      NaN               Startup Resources               Startup Resources  \n",
       "2495      NaN                   Relationships                     Sex Stories  \n",
       "1422      NaN                Military Defense                Military Defense  \n",
       "224       NaN               Copenhagen Travel               Copenhagen Travel  \n",
       "2264      NaN              Event Inspirations              Event Inspirations  \n",
       "287   Weather       2023 Weather Preparedness       2023 Weather Preparedness  \n",
       "1196      NaN  California Fashion & Lifestyle            California Lifestyle  "
      ]
     },
     "execution_count": 24,
     "metadata": {},
     "output_type": "execute_result"
    }
   ],
   "source": [
    "fine_tune_raw.sample(n=10)"
   ]
  },
  {
   "cell_type": "code",
   "execution_count": 23,
   "id": "ebe073ce-2820-4b80-83e6-0a06e77be99c",
   "metadata": {},
   "outputs": [],
   "source": [
    "# fine_tune_raw[\"output_no_news\"] = fine_tune_raw[\"output_no_year\"].apply(remove_news)"
   ]
  },
  {
   "cell_type": "code",
   "execution_count": 59,
   "id": "f5b3efc3-6cfc-4919-a670-4c12fdf4f9a5",
   "metadata": {},
   "outputs": [],
   "source": [
    "#fine_tune_raw[\"output\"] = fine_tune_raw[\"output\"].apply(remove_or)"
   ]
  },
  {
   "cell_type": "code",
   "execution_count": 25,
   "id": "41c3e1c9-c0ab-4d6d-aa46-3bfc844970be",
   "metadata": {},
   "outputs": [
    {
     "data": {
      "text/plain": [
       "[]"
      ]
     },
     "execution_count": 25,
     "metadata": {},
     "output_type": "execute_result"
    }
   ],
   "source": [
    "fine_tune_raw[fine_tune_raw.output.str.contains(\"&\")].output.to_list()"
   ]
  },
  {
   "cell_type": "code",
   "execution_count": 26,
   "id": "6f4fa5ec-505e-494f-9ade-b6d215b719b3",
   "metadata": {},
   "outputs": [
    {
     "data": {
      "text/plain": [
       "['Galápagos Islands Travel',\n",
       " 'Kathmandu Travel',\n",
       " 'Kathmandu Highlights',\n",
       " 'Standardized Testing',\n",
       " 'Standardized Testing',\n",
       " 'Handmade Crafts',\n",
       " 'Handmade Items on Etsy',\n",
       " 'Political Scandal',\n",
       " 'Political Scandals',\n",
       " 'Political Scandals',\n",
       " 'Political Scandals',\n",
       " 'Digital Branding',\n",
       " 'Digital Branding',\n",
       " 'Anime Merchandise',\n",
       " 'Anime Merchandise',\n",
       " 'Mozilla Branding News',\n",
       " 'Hand Sanitizers',\n",
       " 'Pandemic History',\n",
       " 'Pandemic Business Strategies',\n",
       " 'Pandemic Insights',\n",
       " 'Pandemic History']"
      ]
     },
     "execution_count": 26,
     "metadata": {},
     "output_type": "execute_result"
    }
   ],
   "source": [
    "fine_tune_raw[fine_tune_raw.output.str.contains(\"and\")].output.to_list()"
   ]
  },
  {
   "cell_type": "code",
   "execution_count": 27,
   "id": "c3b7ff37-8d02-491f-ac47-0f27b9760681",
   "metadata": {},
   "outputs": [],
   "source": [
    "fine_tune_raw.to_csv(\"./test_data/topic_fine_tuning_data_guided__02_11_processed.csv\")"
   ]
  },
  {
   "cell_type": "code",
   "execution_count": null,
   "id": "11ffeaaa-f87f-4cf8-bdd5-d7b47970a55f",
   "metadata": {},
   "outputs": [],
   "source": []
  }
 ],
 "metadata": {
  "kernelspec": {
   "display_name": "Python 3 (ipykernel)",
   "language": "python",
   "name": "python3"
  },
  "language_info": {
   "codemirror_mode": {
    "name": "ipython",
    "version": 3
   },
   "file_extension": ".py",
   "mimetype": "text/x-python",
   "name": "python",
   "nbconvert_exporter": "python",
   "pygments_lexer": "ipython3",
   "version": "3.11.4"
  }
 },
 "nbformat": 4,
 "nbformat_minor": 5
}
